{
  "nbformat": 4,
  "nbformat_minor": 0,
  "metadata": {
    "colab": {
      "provenance": [],
      "authorship_tag": "ABX9TyNVQitu3oNHBASD9Q9LM09z",
      "include_colab_link": true
    },
    "kernelspec": {
      "name": "python3",
      "display_name": "Python 3"
    },
    "language_info": {
      "name": "python"
    }
  },
  "cells": [
    {
      "cell_type": "markdown",
      "metadata": {
        "id": "view-in-github",
        "colab_type": "text"
      },
      "source": [
        "<a href=\"https://colab.research.google.com/github/lerlerchan/Practical-Discrete-Mathematics/blob/master/chr_number.ipynb\" target=\"_parent\"><img src=\"https://colab.research.google.com/assets/colab-badge.svg\" alt=\"Open In Colab\"/></a>"
      ]
    },
    {
      "cell_type": "markdown",
      "source": [
        "# Convert Character to Binary\n",
        "\n",
        "\n",
        "*   The ord() function returns the ASCII value of the character.\n",
        "*   The bin() function converts the ASCII value to its binary representation. The [2:] part is used to remove the \"0b\" prefix from the binary string.\n",
        "*  Finally, the result is printed to the console.\n",
        "\n"
      ],
      "metadata": {
        "id": "IZXMjlrgGf0J"
      }
    },
    {
      "cell_type": "code",
      "execution_count": 1,
      "metadata": {
        "colab": {
          "base_uri": "https://localhost:8080/"
        },
        "id": "VW5ml9qDGZIj",
        "outputId": "1da38301-9230-46e2-a052-a80560c47b56"
      },
      "outputs": [
        {
          "output_type": "stream",
          "name": "stdout",
          "text": [
            "The character 'a' in binary is: 1100001\n"
          ]
        }
      ],
      "source": [
        "char = 'a'\n",
        "ascii_value = ord(char)\n",
        "binary_value = bin(ascii_value)[2:]\n",
        "\n",
        "print(f\"The character '{char}' in binary is: {binary_value}\")\n"
      ]
    },
    {
      "cell_type": "markdown",
      "source": [
        "# Convert Character to Hexadecimal \n",
        "Explanation:\n",
        "\n",
        "*   The ord() function returns the ASCII value of the character.\n",
        "*   The hex() function converts the ASCII value to its hexadecimal representation.The [2:] part is used to remove the \"0x\" prefix from the hexadecimal string.\n",
        "*   Finally, the result is printed to the console."
      ],
      "metadata": {
        "id": "Nafzoua3Gxh9"
      }
    },
    {
      "cell_type": "code",
      "source": [
        "char = 'l'\n",
        "ascii_value = ord(char)\n",
        "hex_value = hex(ascii_value)[2:]\n",
        "\n",
        "print(f\"The character '{char}' in hexadecimal is: {hex_value}\")\n"
      ],
      "metadata": {
        "id": "nKlcLWy5HZ9H"
      },
      "execution_count": null,
      "outputs": []
    },
    {
      "cell_type": "markdown",
      "source": [
        "# Convert String to Hexadecimal\n",
        "Explanation:\n",
        "\n",
        "* The encode() method is used to encode the string as bytes using the default encoding (UTF-8).\n",
        "* The hex() method is called on the encoded string to convert it to its hexadecimal representation.\n",
        "* Finally, the result is printed to the console."
      ],
      "metadata": {
        "id": "fp6jFL1rIFTN"
      }
    },
    {
      "cell_type": "code",
      "source": [
        "string = \"Southern\"\n",
        "hex_string = string.encode().hex()\n",
        "\n",
        "print(f\"The hexadecimal representation of '{string}' is: {hex_string}\")\n"
      ],
      "metadata": {
        "id": "MHOdnwBXIY7Q"
      },
      "execution_count": null,
      "outputs": []
    }
  ]
}